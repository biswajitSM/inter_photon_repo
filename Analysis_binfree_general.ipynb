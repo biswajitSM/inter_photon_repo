{
 "cells": [
  {
   "cell_type": "markdown",
   "metadata": {},
   "source": [
    "# Modules and directories"
   ]
  },
  {
   "cell_type": "code",
   "execution_count": 2,
   "metadata": {
    "ExecuteTime": {
     "end_time": "2017-09-22T12:16:45.297037Z",
     "start_time": "2017-09-22T12:16:45.274731Z"
    },
    "code_folding": [
     0
    ]
   },
   "outputs": [
    {
     "name": "stdout",
     "output_type": "stream",
     "text": [
      "The working directory is parentdir: /home/biswajit/Research/Reports_ppt/reports/binfree-MS2/inter_photon_repo\n",
      "The data directory is: data/\n",
      "The data path is: /home/biswajit/Research/Reports_ppt/reports/binfree-MS2/inter_photon_repo/data\n"
     ]
    }
   ],
   "source": [
    "#directories\n",
    "import os\n",
    "try:\n",
    "    parentdir\n",
    "except NameError:\n",
    "    parentdir=os.getcwd()\n",
    "else:\n",
    "    parentdir = parentdir\n",
    "print('The working directory is parentdir: %s' %parentdir)\n",
    "try:\n",
    "    data_dir\n",
    "    os.chdir(data_dir)\n",
    "    data_path = os.getcwd()\n",
    "except NameError:\n",
    "    os.chdir(parentdir)\n",
    "    data_dir = 'data/'\n",
    "    os.chdir(data_dir)\n",
    "    data_path = os.getcwd()\n",
    "else:\n",
    "    parentdir = parentdir\n",
    "    \n",
    "print('The data directory is: %s' %data_dir)\n",
    "print('The data path is: %s' %data_path)"
   ]
  },
  {
   "cell_type": "code",
   "execution_count": 17,
   "metadata": {
    "ExecuteTime": {
     "end_time": "2017-09-22T16:06:42.594495Z",
     "start_time": "2017-09-22T16:06:42.570627Z"
    }
   },
   "outputs": [],
   "source": [
    "os.chdir(parentdir)\n",
    "%run pt3t3r_to_hdf5.py\n",
    "%run pycorrelate.py"
   ]
  },
  {
   "cell_type": "code",
   "execution_count": 18,
   "metadata": {
    "ExecuteTime": {
     "end_time": "2017-09-22T16:06:45.412503Z",
     "start_time": "2017-09-22T16:06:45.370455Z"
    },
    "code_folding": [
     0
    ],
    "collapsed": true
   },
   "outputs": [],
   "source": [
    "#import modules\n",
    "import numpy as np\n",
    "import pandas as pd\n",
    "import phconvert as phc\n",
    "import h5py\n",
    "import matplotlib.pyplot as plt\n",
    "import matplotlib as mpl\n",
    "%matplotlib inline\n",
    "\n",
    "import warnings\n",
    "warnings.filterwarnings(\"ignore\")"
   ]
  },
  {
   "cell_type": "markdown",
   "metadata": {},
   "source": [
    "## Save all t3r files to hdf5 format"
   ]
  },
  {
   "cell_type": "code",
   "execution_count": 21,
   "metadata": {
    "ExecuteTime": {
     "end_time": "2017-09-22T17:46:38.778854Z",
     "start_time": "2017-09-22T17:46:38.769008Z"
    }
   },
   "outputs": [],
   "source": [
    "# folderpath = 'data/'\n",
    "# pt3t3r_to_hdf5_folder(folderpath=folderpath)"
   ]
  },
  {
   "cell_type": "code",
   "execution_count": 16,
   "metadata": {
    "ExecuteTime": {
     "end_time": "2017-09-22T16:06:28.449275Z",
     "start_time": "2017-09-22T16:06:28.423020Z"
    },
    "code_folding": [
     0
    ]
   },
   "outputs": [],
   "source": [
    "def remove_hdf5_folder(folderpath):\n",
    "    \"\"\"\n",
    "    Arguments:\n",
    "    folderpath:  Give the full path of the folder\n",
    "    Returns:\n",
    "    Nothing but saves the files in hdf5 format \n",
    "    \"\"\"\n",
    "    hdf5_extension = [\".hdf5\"]\n",
    "    #pt3 conversion\n",
    "    for dirpath, dirname, filenames in os.walk(folderpath):\n",
    "        for filename in [f for f in filenames if f.endswith(tuple(hdf5_extension))]:\n",
    "            file_path = os.path.join(dirpath, filename)\n",
    "            print(file_path)\n",
    "            os.remove(file_path)\n",
    "    return\n",
    "#dangerrous\n",
    "######remove_hdf5_folder(folderpath='data/')"
   ]
  },
  {
   "cell_type": "code",
   "execution_count": 1,
   "metadata": {
    "ExecuteTime": {
     "end_time": "2017-09-22T12:16:26.388595Z",
     "start_time": "2017-09-22T12:16:26.361218Z"
    }
   },
   "outputs": [
    {
     "data": {
      "text/html": [
       "<script>\n",
       "code_show=true; \n",
       "function code_toggle() {\n",
       " if (code_show){\n",
       " $('div.input').hide();\n",
       " } else {\n",
       " $('div.input').show();\n",
       " }\n",
       " code_show = !code_show\n",
       "} \n",
       "$( document ).ready(code_toggle);\n",
       "</script>\n",
       "<form action=\"javascript:code_toggle()\"><input type=\"submit\" value=\"Click here to toggle on/off the raw code.\"></form>"
      ],
      "text/plain": [
       "<IPython.core.display.HTML object>"
      ]
     },
     "execution_count": 1,
     "metadata": {},
     "output_type": "execute_result"
    }
   ],
   "source": [
    "from IPython.display import HTML\n",
    "\n",
    "HTML('''<script>\n",
    "code_show=true; \n",
    "function code_toggle() {\n",
    " if (code_show){\n",
    " $('div.input').hide();\n",
    " } else {\n",
    " $('div.input').show();\n",
    " }\n",
    " code_show = !code_show\n",
    "} \n",
    "$( document ).ready(code_toggle);\n",
    "</script>\n",
    "<form action=\"javascript:code_toggle()\"><input type=\"submit\" value=\"Click here to toggle on/off the raw code.\"></form>''')"
   ]
  }
 ],
 "metadata": {
  "hide_input": false,
  "kernelspec": {
   "display_name": "Python 3",
   "language": "python",
   "name": "python3"
  },
  "language_info": {
   "codemirror_mode": {
    "name": "ipython",
    "version": 3
   },
   "file_extension": ".py",
   "mimetype": "text/x-python",
   "name": "python",
   "nbconvert_exporter": "python",
   "pygments_lexer": "ipython3",
   "version": "3.6.0"
  },
  "toc": {
   "colors": {
    "hover_highlight": "#DAA520",
    "navigate_num": "#000000",
    "navigate_text": "#333333",
    "running_highlight": "#FF0000",
    "selected_highlight": "#FFD700",
    "sidebar_border": "#EEEEEE",
    "wrapper_background": "#FFFFFF"
   },
   "moveMenuLeft": true,
   "nav_menu": {
    "height": "48px",
    "width": "252px"
   },
   "navigate_menu": true,
   "number_sections": true,
   "sideBar": true,
   "threshold": 4,
   "toc_cell": false,
   "toc_section_display": "block",
   "toc_window_display": false,
   "widenNotebook": false
  }
 },
 "nbformat": 4,
 "nbformat_minor": 2
}
