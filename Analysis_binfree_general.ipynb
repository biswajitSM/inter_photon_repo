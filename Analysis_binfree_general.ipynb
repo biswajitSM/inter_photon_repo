{
 "cells": [
  {
   "cell_type": "markdown",
   "metadata": {},
   "source": [
    "# Modules and directories"
   ]
  },
  {
   "cell_type": "code",
   "execution_count": 1,
   "metadata": {
    "ExecuteTime": {
     "end_time": "2017-10-13T10:30:34.594870Z",
     "start_time": "2017-10-13T10:30:34.568602Z"
    },
    "code_folding": [
     0
    ]
   },
   "outputs": [
    {
     "name": "stdout",
     "output_type": "stream",
     "text": [
      "The working directory is parentdir: /home/biswajit/Research/Reports_ppt/reports/binfree-MS2/inter_photon_repo\n",
      "The data path is: /home/biswajit/Research/Reports_ppt/reports/binfree-MS2/inter_photon_repo/data\n"
     ]
    }
   ],
   "source": [
    "#directories\n",
    "import os\n",
    "try:\n",
    "    parentdir\n",
    "except NameError:\n",
    "    parentdir=os.getcwd()\n",
    "else:\n",
    "    parentdir = parentdir\n",
    "print('The working directory is parentdir: %s' %parentdir)\n",
    "try:\n",
    "    data_dir\n",
    "    os.chdir(data_dir)\n",
    "    data_path = os.getcwd()\n",
    "except NameError:\n",
    "    os.chdir(parentdir)\n",
    "    data_dir = 'data/'\n",
    "    os.chdir(data_dir)\n",
    "    data_path = os.getcwd()\n",
    "else:\n",
    "    parentdir = parentdir\n",
    "print('The data path is: %s' %data_path)"
   ]
  },
  {
   "cell_type": "code",
   "execution_count": 65,
   "metadata": {
    "ExecuteTime": {
     "end_time": "2017-09-22T18:36:33.344808Z",
     "start_time": "2017-09-22T18:36:33.320670Z"
    },
    "collapsed": true
   },
   "outputs": [],
   "source": [
    "os.chdir(parentdir)\n",
    "%run pt3t3r_to_hdf5.py\n",
    "%run pycorrelate.py"
   ]
  },
  {
   "cell_type": "code",
   "execution_count": 29,
   "metadata": {
    "ExecuteTime": {
     "end_time": "2017-09-22T18:05:14.516407Z",
     "start_time": "2017-09-22T18:05:14.485426Z"
    },
    "code_folding": [
     0
    ],
    "collapsed": true
   },
   "outputs": [],
   "source": [
    "#import modules\n",
    "import numpy as np\n",
    "import pandas as pd\n",
    "import phconvert as phc\n",
    "import h5py\n",
    "import matplotlib.pyplot as plt\n",
    "import matplotlib as mpl\n",
    "%matplotlib inline\n",
    "\n",
    "import warnings\n",
    "warnings.filterwarnings(\"ignore\")"
   ]
  },
  {
   "cell_type": "markdown",
   "metadata": {},
   "source": [
    "## Save all t3r files to hdf5 format"
   ]
  },
  {
   "cell_type": "code",
   "execution_count": 75,
   "metadata": {
    "ExecuteTime": {
     "end_time": "2017-09-23T11:35:31.894147Z",
     "start_time": "2017-09-23T11:35:31.880920Z"
    },
    "collapsed": true
   },
   "outputs": [],
   "source": [
    "# folderpath = 'data/'\n",
    "# pt3t3r_to_hdf5_folder(folderpath=folderpath)"
   ]
  },
  {
   "cell_type": "code",
   "execution_count": 72,
   "metadata": {
    "ExecuteTime": {
     "end_time": "2017-09-22T19:10:25.040504Z",
     "start_time": "2017-09-22T19:10:25.015838Z"
    },
    "code_folding": [
     0
    ],
    "collapsed": true
   },
   "outputs": [],
   "source": [
    "def remove_hdf5_folder(folderpath):\n",
    "    \"\"\"\n",
    "    Arguments:\n",
    "    folderpath:  Give the full path of the folder\n",
    "    Returns:\n",
    "    Nothing but saves the files in hdf5 format \n",
    "    \"\"\"\n",
    "    hdf5_extension = [\".hdf5\"]\n",
    "    #pt3 conversion\n",
    "    for dirpath, dirname, filenames in os.walk(folderpath):\n",
    "        for filename in [f for f in filenames if f.endswith(tuple(hdf5_extension))]:\n",
    "            file_path = os.path.join(dirpath, filename)\n",
    "            print(file_path)\n",
    "            os.remove(file_path)\n",
    "    return\n",
    "#dangerrous\n",
    "######remove_hdf5_folder(folderpath='data/')"
   ]
  },
  {
   "cell_type": "markdown",
   "metadata": {},
   "source": [
    "# Processing"
   ]
  },
  {
   "cell_type": "code",
   "execution_count": 66,
   "metadata": {
    "ExecuteTime": {
     "end_time": "2017-09-22T18:36:39.864655Z",
     "start_time": "2017-09-22T18:36:35.979537Z"
    }
   },
   "outputs": [
    {
     "name": "stdout",
     "output_type": "stream",
     "text": [
      " - Loading 'data/slb_efcs_data/20150324/10nM/Sol_8_100nM.t3r' ... \n",
      " [DONE]\n",
      "\n",
      "Saving: data/slb_efcs_data/20150324/10nM/Sol_8_100nM.hdf5\n"
     ]
    }
   ],
   "source": [
    "os.chdir(parentdir)\n",
    "t3r_data = 'data/slb_efcs_data/20150324/10nM/Sol_8_100nM.t3r';\n",
    "file_path_hdf5 = t3r_to_hdf5(filename=t3r_data);\n",
    "file_path_hdf5 = os.path.abspath(file_path_hdf5)"
   ]
  },
  {
   "cell_type": "code",
   "execution_count": 67,
   "metadata": {
    "ExecuteTime": {
     "end_time": "2017-09-22T18:36:43.069702Z",
     "start_time": "2017-09-22T18:36:43.033828Z"
    },
    "collapsed": true
   },
   "outputs": [],
   "source": [
    "h5 = h5py.File(file_path_hdf5);\n",
    "Photonhdf5_filename = h5['identity']['filename'].value.decode('utf-8');\n",
    "Photonhdf5_filename_full = h5['identity']['filename_full'].value;\n",
    "Photonhdf5_filedir = os.path.dirname(os.path.realpath(Photonhdf5_filename_full)).decode('utf-8');\n",
    "unit = h5['photon_data']['timestamps_specs']['timestamps_unit'].value;\n",
    "tcspc_unit = h5['photon_data']['nanotimes_specs']['tcspc_unit'].value;"
   ]
  },
  {
   "cell_type": "code",
   "execution_count": 68,
   "metadata": {
    "ExecuteTime": {
     "end_time": "2017-09-22T18:36:44.074350Z",
     "start_time": "2017-09-22T18:36:43.957702Z"
    }
   },
   "outputs": [
    {
     "name": "stdout",
     "output_type": "stream",
     "text": [
      "Detector    Counts\n",
      "--------   --------\n",
      "       1    1775828\n"
     ]
    }
   ],
   "source": [
    "detectors = h5['photon_data']['detectors'];\n",
    "timestamps = h5['photon_data']['timestamps'];\n",
    "print(\"Detector    Counts\")\n",
    "print(\"--------   --------\")\n",
    "for det, count in zip(*np.unique(detectors, return_counts=True)):\n",
    "    print(\"%8d   %8d\" % (det, count));\n",
    "# del detectors"
   ]
  },
  {
   "cell_type": "code",
   "execution_count": 1,
   "metadata": {
    "ExecuteTime": {
     "end_time": "2017-09-22T12:16:26.388595Z",
     "start_time": "2017-09-22T12:16:26.361218Z"
    },
    "scrolled": true
   },
   "outputs": [
    {
     "data": {
      "text/html": [
       "<script>\n",
       "code_show=true; \n",
       "function code_toggle() {\n",
       " if (code_show){\n",
       " $('div.input').hide();\n",
       " } else {\n",
       " $('div.input').show();\n",
       " }\n",
       " code_show = !code_show\n",
       "} \n",
       "$( document ).ready(code_toggle);\n",
       "</script>\n",
       "<form action=\"javascript:code_toggle()\"><input type=\"submit\" value=\"Click here to toggle on/off the raw code.\"></form>"
      ],
      "text/plain": [
       "<IPython.core.display.HTML object>"
      ]
     },
     "execution_count": 1,
     "metadata": {},
     "output_type": "execute_result"
    }
   ],
   "source": [
    "from IPython.display import HTML\n",
    "\n",
    "HTML('''<script>\n",
    "code_show=true; \n",
    "function code_toggle() {\n",
    " if (code_show){\n",
    " $('div.input').hide();\n",
    " } else {\n",
    " $('div.input').show();\n",
    " }\n",
    " code_show = !code_show\n",
    "} \n",
    "$( document ).ready(code_toggle);\n",
    "</script>\n",
    "<form action=\"javascript:code_toggle()\"><input type=\"submit\" value=\"Click here to toggle on/off the raw code.\"></form>''')"
   ]
  }
 ],
 "metadata": {
  "hide_input": false,
  "kernelspec": {
   "display_name": "Python 3",
   "language": "python",
   "name": "python3"
  },
  "language_info": {
   "codemirror_mode": {
    "name": "ipython",
    "version": 3
   },
   "file_extension": ".py",
   "mimetype": "text/x-python",
   "name": "python",
   "nbconvert_exporter": "python",
   "pygments_lexer": "ipython3",
   "version": "3.6.0"
  },
  "toc": {
   "colors": {
    "hover_highlight": "#DAA520",
    "navigate_num": "#000000",
    "navigate_text": "#333333",
    "running_highlight": "#FF0000",
    "selected_highlight": "#FFD700",
    "sidebar_border": "#EEEEEE",
    "wrapper_background": "#FFFFFF"
   },
   "moveMenuLeft": true,
   "nav_menu": {
    "height": "66px",
    "width": "252px"
   },
   "navigate_menu": true,
   "number_sections": true,
   "sideBar": true,
   "threshold": 4,
   "toc_cell": false,
   "toc_section_display": "block",
   "toc_window_display": true,
   "widenNotebook": false
  }
 },
 "nbformat": 4,
 "nbformat_minor": 2
}
